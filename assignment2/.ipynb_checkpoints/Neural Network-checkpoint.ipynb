{
 "cells": [
  {
   "cell_type": "markdown",
   "metadata": {},
   "source": [
    "# Задание 2.1 - Нейронные сети\n",
    "\n",
    "В этом задании вы реализуете и натренируете настоящую нейроную сеть своими руками!\n",
    "\n",
    "В некотором смысле это будет расширением прошлого задания - нам нужно просто составить несколько линейных классификаторов вместе!\n",
    "\n",
    "<img src=\"https://i.redd.it/n9fgba8b0qr01.png\" alt=\"Stack_more_layers\" width=\"400px\"/>"
   ]
  },
  {
   "cell_type": "code",
   "execution_count": 1,
   "metadata": {},
   "outputs": [],
   "source": [
    "import numpy as np\n",
    "import matplotlib.pyplot as plt\n",
    "\n",
    "%matplotlib inline\n",
    "\n",
    "%load_ext autoreload\n",
    "%autoreload 2"
   ]
  },
  {
   "cell_type": "code",
   "execution_count": 2,
   "metadata": {},
   "outputs": [],
   "source": [
    "from dataset import load_svhn, random_split_train_val\n",
    "from gradient_check import check_layer_gradient, check_layer_param_gradient, check_model_gradient\n",
    "from layers import FullyConnectedLayer, ReLULayer\n",
    "from model import TwoLayerNet\n",
    "from trainer import Trainer, Dataset\n",
    "from optim import SGD, MomentumSGD\n",
    "from metrics import multiclass_accuracy"
   ]
  },
  {
   "cell_type": "markdown",
   "metadata": {},
   "source": [
    "# Загружаем данные\n",
    "\n",
    "И разделяем их на training и validation."
   ]
  },
  {
   "cell_type": "code",
   "execution_count": 3,
   "metadata": {},
   "outputs": [
    {
     "name": "stderr",
     "output_type": "stream",
     "text": [
      "/tmp/ipykernel_26934/2810386256.py:2: DeprecationWarning: `np.float` is a deprecated alias for the builtin `float`. To silence this warning, use `float` by itself. Doing this will not modify any behavior and is safe. If you specifically wanted the numpy scalar type, use `np.float64` here.\n",
      "Deprecated in NumPy 1.20; for more details and guidance: https://numpy.org/devdocs/release/1.20.0-notes.html#deprecations\n",
      "  train_flat = train_X.reshape(train_X.shape[0], -1).astype(np.float) / 255.0\n",
      "/tmp/ipykernel_26934/2810386256.py:3: DeprecationWarning: `np.float` is a deprecated alias for the builtin `float`. To silence this warning, use `float` by itself. Doing this will not modify any behavior and is safe. If you specifically wanted the numpy scalar type, use `np.float64` here.\n",
      "Deprecated in NumPy 1.20; for more details and guidance: https://numpy.org/devdocs/release/1.20.0-notes.html#deprecations\n",
      "  test_flat = test_X.reshape(test_X.shape[0], -1).astype(np.float) / 255.0\n"
     ]
    }
   ],
   "source": [
    "def prepare_for_neural_network(train_X, test_X):\n",
    "    train_flat = train_X.reshape(train_X.shape[0], -1).astype(np.float) / 255.0\n",
    "    test_flat = test_X.reshape(test_X.shape[0], -1).astype(np.float) / 255.0\n",
    "    \n",
    "    # Subtract mean\n",
    "    mean_image = np.mean(train_flat, axis = 0)\n",
    "    train_flat -= mean_image\n",
    "    test_flat -= mean_image\n",
    "    \n",
    "    return train_flat, test_flat\n",
    "    \n",
    "train_X, train_y, test_X, test_y = load_svhn(\"data\", max_train=10000, max_test=1000)    \n",
    "train_X, test_X = prepare_for_neural_network(train_X, test_X)\n",
    "# Split train into train and val\n",
    "train_X, train_y, val_X, val_y = random_split_train_val(train_X, train_y, num_val = 1000)"
   ]
  },
  {
   "cell_type": "markdown",
   "metadata": {},
   "source": [
    "# Как всегда, начинаем с кирпичиков\n",
    "\n",
    "Мы будем реализовывать необходимые нам слои по очереди. Каждый слой должен реализовать:\n",
    "- прямой проход (forward pass), который генерирует выход слоя по входу и запоминает необходимые данные\n",
    "- обратный проход (backward pass), который получает градиент по выходу слоя и вычисляет градиент по входу и по параметрам\n",
    "\n",
    "Начнем с ReLU, у которого параметров нет."
   ]
  },
  {
   "cell_type": "code",
   "execution_count": 6,
   "metadata": {
    "scrolled": false
   },
   "outputs": [
    {
     "name": "stdout",
     "output_type": "stream",
     "text": [
      "Gradient check passed!\n"
     ]
    }
   ],
   "source": [
    "# TODO: Implement ReLULayer layer in layers.py\n",
    "# Note: you'll need to copy implementation of the gradient_check function from the previous assignment\n",
    "\n",
    "X = np.array([[1,-2,3],\n",
    "              [-1, 2, 0.1]\n",
    "              ])\n",
    "\n",
    "assert check_layer_gradient(ReLULayer(), X)"
   ]
  },
  {
   "cell_type": "markdown",
   "metadata": {},
   "source": [
    "А теперь реализуем полносвязный слой (fully connected layer), у которого будет два массива параметров: W (weights) и B (bias).\n",
    "\n",
    "Все параметры наши слои будут использовать для параметров специальный класс `Param`, в котором будут храниться значения параметров и градиенты этих параметров, вычисляемые во время обратного прохода.\n",
    "\n",
    "Это даст возможность аккумулировать (суммировать) градиенты из разных частей функции потерь, например, из cross-entropy loss и regularization loss."
   ]
  },
  {
   "cell_type": "code",
   "execution_count": 8,
   "metadata": {},
   "outputs": [
    {
     "name": "stdout",
     "output_type": "stream",
     "text": [
      "Gradient check passed!\n",
      "Gradient check passed!\n",
      "Gradient check passed!\n"
     ]
    }
   ],
   "source": [
    "# TODO: Implement FullyConnected layer forward and backward methods\n",
    "assert check_layer_gradient(FullyConnectedLayer(3, 4), X)\n",
    "# TODO: Implement storing gradients for W and B\n",
    "assert check_layer_param_gradient(FullyConnectedLayer(3, 4), X, 'W')\n",
    "assert check_layer_param_gradient(FullyConnectedLayer(3, 4), X, 'B')"
   ]
  },
  {
   "cell_type": "markdown",
   "metadata": {},
   "source": [
    "## Создаем нейронную сеть\n",
    "\n",
    "Теперь мы реализуем простейшую нейронную сеть с двумя полносвязным слоями и нелинейностью ReLU. Реализуйте функцию `compute_loss_and_gradients`, она должна запустить прямой и обратный проход через оба слоя для вычисления градиентов.\n",
    "\n",
    "Не забудьте реализовать очистку градиентов в начале функции."
   ]
  },
  {
   "cell_type": "code",
   "execution_count": 9,
   "metadata": {},
   "outputs": [
    {
     "name": "stdout",
     "output_type": "stream",
     "text": [
      "Checking gradient for W_out\n",
      "Gradient check passed!\n",
      "Checking gradient for W_in\n",
      "Gradient check passed!\n",
      "Checking gradient for B_out\n",
      "Gradient check passed!\n",
      "Checking gradient for B_in\n",
      "Gradient check passed!\n"
     ]
    },
    {
     "data": {
      "text/plain": [
       "True"
      ]
     },
     "execution_count": 9,
     "metadata": {},
     "output_type": "execute_result"
    }
   ],
   "source": [
    "# TODO: In model.py, implement compute_loss_and_gradients function\n",
    "model = TwoLayerNet(n_input = train_X.shape[1], n_output = 10, hidden_layer_size = 3, reg = 0)\n",
    "loss = model.compute_loss_and_gradients(train_X[:2], train_y[:2])\n",
    "\n",
    "# TODO Now implement backward pass and aggregate all of the params\n",
    "check_model_gradient(model, train_X[:2], train_y[:2])"
   ]
  },
  {
   "cell_type": "markdown",
   "metadata": {},
   "source": [
    "Теперь добавьте к модели регуляризацию - она должна прибавляться к loss и делать свой вклад в градиенты."
   ]
  },
  {
   "cell_type": "code",
   "execution_count": 10,
   "metadata": {},
   "outputs": [
    {
     "name": "stdout",
     "output_type": "stream",
     "text": [
      "Checking gradient for W_out\n",
      "Gradient check passed!\n",
      "Checking gradient for W_in\n",
      "Gradient check passed!\n",
      "Checking gradient for B_out\n",
      "Gradient check passed!\n",
      "Checking gradient for B_in\n",
      "Gradient check passed!\n"
     ]
    },
    {
     "data": {
      "text/plain": [
       "True"
      ]
     },
     "execution_count": 10,
     "metadata": {},
     "output_type": "execute_result"
    }
   ],
   "source": [
    "# TODO Now implement l2 regularization in the forward and backward pass\n",
    "model_with_reg = TwoLayerNet(n_input = train_X.shape[1], n_output = 10, hidden_layer_size = 3, reg = 1e1)\n",
    "loss_with_reg = model_with_reg.compute_loss_and_gradients(train_X[:2], train_y[:2])\n",
    "assert loss_with_reg > loss and not np.isclose(loss_with_reg, loss), \\\n",
    "    \"Loss with regularization (%2.4f) should be higher than without it (%2.4f)!\" % (loss, loss_with_reg)\n",
    "\n",
    "check_model_gradient(model_with_reg, train_X[:2], train_y[:2])"
   ]
  },
  {
   "cell_type": "markdown",
   "metadata": {},
   "source": [
    "Также реализуем функцию предсказания (вычисления значения) модели на новых данных.\n",
    "\n",
    "Какое значение точности мы ожидаем увидеть до начала тренировки?"
   ]
  },
  {
   "cell_type": "code",
   "execution_count": 12,
   "metadata": {},
   "outputs": [
    {
     "data": {
      "text/plain": [
       "0.16666666666666666"
      ]
     },
     "execution_count": 12,
     "metadata": {},
     "output_type": "execute_result"
    }
   ],
   "source": [
    "# Finally, implement predict function!\n",
    "\n",
    "# TODO: Implement predict function\n",
    "# What would be the value we expect?\n",
    "multiclass_accuracy(model_with_reg.predict(train_X[:30]), train_y[:30]) "
   ]
  },
  {
   "cell_type": "markdown",
   "metadata": {},
   "source": [
    "# Допишем код для процесса тренировки\n",
    "\n",
    "Если все реализовано корректно, значение функции ошибки должно уменьшаться с каждой эпохой, пусть и медленно. Не беспокойтесь пока про validation accuracy."
   ]
  },
  {
   "cell_type": "code",
   "execution_count": null,
   "metadata": {},
   "outputs": [],
   "source": [
    "model = TwoLayerNet(n_input = train_X.shape[1], n_output = 10, hidden_layer_size = 100, reg = 1e1)\n",
    "dataset = Dataset(train_X, train_y, val_X, val_y)\n",
    "trainer = Trainer(model, dataset, SGD(), learning_rate = 1e-2)\n",
    "\n",
    "# TODO Implement missing pieces in Trainer.fit function\n",
    "# You should expect loss to go down every epoch, even if it's slow\n",
    "loss_history, train_history, val_history = trainer.fit()"
   ]
  },
  {
   "cell_type": "code",
   "execution_count": null,
   "metadata": {},
   "outputs": [],
   "source": [
    "plt.plot(train_history)\n",
    "plt.plot(val_history)"
   ]
  },
  {
   "cell_type": "markdown",
   "metadata": {},
   "source": [
    "# Улучшаем процесс тренировки\n",
    "\n",
    "Мы реализуем несколько ключевых оптимизаций, необходимых для тренировки современных нейросетей."
   ]
  },
  {
   "cell_type": "markdown",
   "metadata": {},
   "source": [
    "## Уменьшение скорости обучения (learning rate decay)\n",
    "\n",
    "Одна из необходимых оптимизаций во время тренировки нейронных сетей - постепенное уменьшение скорости обучения по мере тренировки.\n",
    "\n",
    "Один из стандартных методов - уменьшение скорости обучения (learning rate) каждые N эпох на коэффициент d (часто называемый decay). Значения N и d, как всегда, являются гиперпараметрами и должны подбираться на основе эффективности на проверочных данных (validation data). \n",
    "\n",
    "В нашем случае N будет равным 1."
   ]
  },
  {
   "cell_type": "code",
   "execution_count": 14,
   "metadata": {},
   "outputs": [
    {
     "name": "stdout",
     "output_type": "stream",
     "text": [
      "Loss: 2.249928, Train accuracy: 0.196667, val accuracy: 0.206000\n",
      "Loss: 2.239042, Train accuracy: 0.196667, val accuracy: 0.206000\n",
      "Loss: 2.298346, Train accuracy: 0.196667, val accuracy: 0.206000\n",
      "Loss: 2.213825, Train accuracy: 0.196667, val accuracy: 0.206000\n",
      "Loss: 2.271583, Train accuracy: 0.196667, val accuracy: 0.206000\n",
      "Loss: 2.253327, Train accuracy: 0.196667, val accuracy: 0.206000\n",
      "Loss: 2.185414, Train accuracy: 0.196667, val accuracy: 0.206000\n",
      "Loss: 2.252596, Train accuracy: 0.196667, val accuracy: 0.206000\n",
      "Loss: 2.303797, Train accuracy: 0.196667, val accuracy: 0.206000\n",
      "Loss: 2.378797, Train accuracy: 0.196667, val accuracy: 0.206000\n",
      "Loss: 2.331100, Train accuracy: 0.196667, val accuracy: 0.206000\n",
      "Loss: 2.233551, Train accuracy: 0.196667, val accuracy: 0.206000\n",
      "Loss: 2.263052, Train accuracy: 0.196667, val accuracy: 0.206000\n",
      "Loss: 2.314094, Train accuracy: 0.196667, val accuracy: 0.206000\n",
      "Loss: 2.225365, Train accuracy: 0.196667, val accuracy: 0.206000\n",
      "Loss: 2.340751, Train accuracy: 0.196667, val accuracy: 0.206000\n",
      "Loss: 2.285382, Train accuracy: 0.196667, val accuracy: 0.206000\n",
      "Loss: 2.345458, Train accuracy: 0.196667, val accuracy: 0.206000\n",
      "Loss: 2.130736, Train accuracy: 0.196667, val accuracy: 0.206000\n",
      "Loss: 2.233158, Train accuracy: 0.196667, val accuracy: 0.206000\n"
     ]
    }
   ],
   "source": [
    "# TODO Implement learning rate decay inside Trainer.fit method\n",
    "# Decay should happen once per epoch\n",
    "\n",
    "model = TwoLayerNet(n_input = train_X.shape[1], n_output = 10, hidden_layer_size = 100, reg = 1e-1)\n",
    "dataset = Dataset(train_X, train_y, val_X, val_y)\n",
    "trainer = Trainer(model, dataset, SGD(), learning_rate_decay=0.99)\n",
    "\n",
    "initial_learning_rate = trainer.learning_rate\n",
    "loss_history, train_history, val_history = trainer.fit()\n",
    "\n",
    "assert trainer.learning_rate < initial_learning_rate, \"Learning rate should've been reduced\"\n",
    "assert trainer.learning_rate > 0.5*initial_learning_rate, \"Learning rate shouldn'tve been reduced that much!\""
   ]
  },
  {
   "cell_type": "markdown",
   "metadata": {},
   "source": [
    "# Накопление импульса (Momentum SGD)\n",
    "\n",
    "Другой большой класс оптимизаций - использование более эффективных методов градиентного спуска. Мы реализуем один из них - накопление импульса (Momentum SGD).\n",
    "\n",
    "Этот метод хранит скорость движения, использует градиент для ее изменения на каждом шаге, и изменяет веса пропорционально значению скорости.\n",
    "(Физическая аналогия: Вместо скорости градиенты теперь будут задавать ускорение, но будет присутствовать сила трения.)\n",
    "\n",
    "```\n",
    "velocity = momentum * velocity - learning_rate * gradient \n",
    "w = w + velocity\n",
    "```\n",
    "\n",
    "`momentum` здесь коэффициент затухания, который тоже является гиперпараметром (к счастью, для него часто есть хорошее значение по умолчанию, типичный диапазон -- 0.8-0.99).\n",
    "\n",
    "Несколько полезных ссылок, где метод разбирается более подробно:  \n",
    "http://cs231n.github.io/neural-networks-3/#sgd  \n",
    "https://distill.pub/2017/momentum/"
   ]
  },
  {
   "cell_type": "code",
   "execution_count": 15,
   "metadata": {},
   "outputs": [
    {
     "name": "stdout",
     "output_type": "stream",
     "text": [
      "Loss: 2.323071, Train accuracy: 0.196667, val accuracy: 0.206000\n",
      "Loss: 2.279769, Train accuracy: 0.196667, val accuracy: 0.206000\n",
      "Loss: 2.297404, Train accuracy: 0.196667, val accuracy: 0.206000\n",
      "Loss: 2.300147, Train accuracy: 0.196667, val accuracy: 0.206000\n",
      "Loss: 2.274831, Train accuracy: 0.196667, val accuracy: 0.206000\n",
      "Loss: 2.279916, Train accuracy: 0.196667, val accuracy: 0.206000\n",
      "Loss: 2.302557, Train accuracy: 0.196667, val accuracy: 0.206000\n",
      "Loss: 2.286933, Train accuracy: 0.196667, val accuracy: 0.206000\n",
      "Loss: 2.281800, Train accuracy: 0.196667, val accuracy: 0.206000\n",
      "Loss: 2.336671, Train accuracy: 0.196667, val accuracy: 0.206000\n",
      "Loss: 2.294825, Train accuracy: 0.196667, val accuracy: 0.206000\n",
      "Loss: 2.270441, Train accuracy: 0.196667, val accuracy: 0.206000\n",
      "Loss: 2.279329, Train accuracy: 0.196667, val accuracy: 0.206000\n",
      "Loss: 2.269652, Train accuracy: 0.196667, val accuracy: 0.206000\n",
      "Loss: 2.336324, Train accuracy: 0.196667, val accuracy: 0.206000\n",
      "Loss: 2.336233, Train accuracy: 0.196667, val accuracy: 0.206000\n",
      "Loss: 2.325737, Train accuracy: 0.196667, val accuracy: 0.206000\n",
      "Loss: 2.298570, Train accuracy: 0.196667, val accuracy: 0.206000\n",
      "Loss: 2.297682, Train accuracy: 0.196667, val accuracy: 0.206000\n",
      "Loss: 2.300909, Train accuracy: 0.196667, val accuracy: 0.206000\n"
     ]
    }
   ],
   "source": [
    "# TODO: Implement MomentumSGD.update function in optim.py\n",
    "\n",
    "model = TwoLayerNet(n_input = train_X.shape[1], n_output = 10, hidden_layer_size = 100, reg = 1e-1)\n",
    "dataset = Dataset(train_X, train_y, val_X, val_y)\n",
    "trainer = Trainer(model, dataset, MomentumSGD(), learning_rate=1e-4, learning_rate_decay=0.99)\n",
    "\n",
    "# You should see even better results than before!\n",
    "loss_history, train_history, val_history = trainer.fit()"
   ]
  },
  {
   "cell_type": "markdown",
   "metadata": {},
   "source": [
    "# Ну что, давайте уже тренировать сеть!"
   ]
  },
  {
   "cell_type": "markdown",
   "metadata": {},
   "source": [
    "## Последний тест - переобучимся (overfit) на маленьком наборе данных\n",
    "\n",
    "Хороший способ проверить, все ли реализовано корректно - переобучить сеть на маленьком наборе данных.  \n",
    "Наша модель обладает достаточной мощностью, чтобы приблизить маленький набор данных идеально, поэтому мы ожидаем, что на нем мы быстро дойдем до 100% точности на тренировочном наборе. \n",
    "\n",
    "Если этого не происходит, то где-то была допущена ошибка!"
   ]
  },
  {
   "cell_type": "code",
   "execution_count": 20,
   "metadata": {},
   "outputs": [
    {
     "name": "stdout",
     "output_type": "stream",
     "text": [
      "Loss: 2.331090, Train accuracy: 0.200000, val accuracy: 0.133333\n",
      "Loss: 2.312129, Train accuracy: 0.200000, val accuracy: 0.133333\n",
      "Loss: 2.320938, Train accuracy: 0.200000, val accuracy: 0.133333\n",
      "Loss: 2.294606, Train accuracy: 0.200000, val accuracy: 0.133333\n",
      "Loss: 2.281745, Train accuracy: 0.200000, val accuracy: 0.133333\n",
      "Loss: 2.213331, Train accuracy: 0.200000, val accuracy: 0.133333\n",
      "Loss: 2.224522, Train accuracy: 0.200000, val accuracy: 0.066667\n",
      "Loss: 2.241363, Train accuracy: 0.266667, val accuracy: 0.000000\n",
      "Loss: 2.133596, Train accuracy: 0.333333, val accuracy: 0.000000\n",
      "Loss: 2.234422, Train accuracy: 0.400000, val accuracy: 0.000000\n",
      "Loss: 1.995252, Train accuracy: 0.400000, val accuracy: 0.000000\n",
      "Loss: 2.295022, Train accuracy: 0.400000, val accuracy: 0.000000\n",
      "Loss: 2.057951, Train accuracy: 0.400000, val accuracy: 0.000000\n",
      "Loss: 1.508024, Train accuracy: 0.333333, val accuracy: 0.000000\n",
      "Loss: 1.267119, Train accuracy: 0.333333, val accuracy: 0.000000\n",
      "Loss: 2.387697, Train accuracy: 0.333333, val accuracy: 0.000000\n",
      "Loss: 1.611461, Train accuracy: 0.333333, val accuracy: 0.000000\n",
      "Loss: 2.235971, Train accuracy: 0.400000, val accuracy: 0.000000\n",
      "Loss: 1.598668, Train accuracy: 0.400000, val accuracy: 0.000000\n",
      "Loss: 1.854929, Train accuracy: 0.400000, val accuracy: 0.000000\n",
      "Loss: 2.030211, Train accuracy: 0.400000, val accuracy: 0.000000\n",
      "Loss: 1.574025, Train accuracy: 0.466667, val accuracy: 0.000000\n",
      "Loss: 2.021657, Train accuracy: 0.466667, val accuracy: 0.066667\n",
      "Loss: 1.612543, Train accuracy: 0.400000, val accuracy: 0.066667\n",
      "Loss: 2.198184, Train accuracy: 0.466667, val accuracy: 0.066667\n",
      "Loss: 2.004788, Train accuracy: 0.466667, val accuracy: 0.000000\n",
      "Loss: 1.894248, Train accuracy: 0.466667, val accuracy: 0.000000\n",
      "Loss: 1.870697, Train accuracy: 0.466667, val accuracy: 0.000000\n",
      "Loss: 2.116166, Train accuracy: 0.466667, val accuracy: 0.066667\n",
      "Loss: 1.470413, Train accuracy: 0.600000, val accuracy: 0.000000\n",
      "Loss: 2.204922, Train accuracy: 0.533333, val accuracy: 0.066667\n",
      "Loss: 2.404071, Train accuracy: 0.600000, val accuracy: 0.066667\n",
      "Loss: 2.416558, Train accuracy: 0.600000, val accuracy: 0.066667\n",
      "Loss: 2.180847, Train accuracy: 0.666667, val accuracy: 0.066667\n",
      "Loss: 1.842953, Train accuracy: 0.600000, val accuracy: 0.066667\n",
      "Loss: 1.507100, Train accuracy: 0.600000, val accuracy: 0.066667\n",
      "Loss: 1.806554, Train accuracy: 0.600000, val accuracy: 0.066667\n",
      "Loss: 1.489478, Train accuracy: 0.666667, val accuracy: 0.066667\n",
      "Loss: 2.036813, Train accuracy: 0.666667, val accuracy: 0.066667\n",
      "Loss: 1.191979, Train accuracy: 0.666667, val accuracy: 0.066667\n",
      "Loss: 1.308443, Train accuracy: 0.666667, val accuracy: 0.066667\n",
      "Loss: 1.699236, Train accuracy: 0.666667, val accuracy: 0.000000\n",
      "Loss: 2.255962, Train accuracy: 0.600000, val accuracy: 0.066667\n",
      "Loss: 1.333877, Train accuracy: 0.666667, val accuracy: 0.066667\n",
      "Loss: 1.703295, Train accuracy: 0.666667, val accuracy: 0.066667\n",
      "Loss: 1.063860, Train accuracy: 0.666667, val accuracy: 0.066667\n",
      "Loss: 1.326220, Train accuracy: 0.666667, val accuracy: 0.133333\n",
      "Loss: 1.649444, Train accuracy: 0.733333, val accuracy: 0.133333\n",
      "Loss: 2.220105, Train accuracy: 0.733333, val accuracy: 0.000000\n",
      "Loss: 1.933758, Train accuracy: 0.733333, val accuracy: 0.066667\n",
      "Loss: 1.385777, Train accuracy: 0.733333, val accuracy: 0.066667\n",
      "Loss: 1.515105, Train accuracy: 0.733333, val accuracy: 0.133333\n",
      "Loss: 1.250673, Train accuracy: 0.733333, val accuracy: 0.066667\n",
      "Loss: 1.591242, Train accuracy: 0.733333, val accuracy: 0.066667\n",
      "Loss: 1.882332, Train accuracy: 0.733333, val accuracy: 0.066667\n",
      "Loss: 1.567997, Train accuracy: 0.733333, val accuracy: 0.066667\n",
      "Loss: 1.266077, Train accuracy: 0.733333, val accuracy: 0.066667\n",
      "Loss: 1.613240, Train accuracy: 0.733333, val accuracy: 0.066667\n",
      "Loss: 1.356840, Train accuracy: 0.733333, val accuracy: 0.066667\n",
      "Loss: 1.545346, Train accuracy: 0.733333, val accuracy: 0.066667\n",
      "Loss: 1.701882, Train accuracy: 0.733333, val accuracy: 0.066667\n",
      "Loss: 1.647495, Train accuracy: 0.733333, val accuracy: 0.066667\n",
      "Loss: 1.467913, Train accuracy: 0.800000, val accuracy: 0.066667\n",
      "Loss: 1.068611, Train accuracy: 0.733333, val accuracy: 0.066667\n",
      "Loss: 1.348356, Train accuracy: 0.733333, val accuracy: 0.066667\n",
      "Loss: 1.491652, Train accuracy: 0.733333, val accuracy: 0.066667\n",
      "Loss: 1.252142, Train accuracy: 0.800000, val accuracy: 0.066667\n",
      "Loss: 1.372913, Train accuracy: 0.733333, val accuracy: 0.066667\n",
      "Loss: 1.333402, Train accuracy: 0.733333, val accuracy: 0.066667\n",
      "Loss: 1.671576, Train accuracy: 0.733333, val accuracy: 0.066667\n",
      "Loss: 0.896147, Train accuracy: 0.800000, val accuracy: 0.066667\n",
      "Loss: 0.974005, Train accuracy: 0.800000, val accuracy: 0.066667\n",
      "Loss: 1.304631, Train accuracy: 0.800000, val accuracy: 0.066667\n",
      "Loss: 1.140198, Train accuracy: 0.800000, val accuracy: 0.066667\n",
      "Loss: 1.251783, Train accuracy: 0.800000, val accuracy: 0.066667\n",
      "Loss: 0.920804, Train accuracy: 0.800000, val accuracy: 0.066667\n",
      "Loss: 1.288114, Train accuracy: 0.800000, val accuracy: 0.066667\n",
      "Loss: 0.914097, Train accuracy: 0.800000, val accuracy: 0.066667\n",
      "Loss: 1.621333, Train accuracy: 0.866667, val accuracy: 0.066667\n",
      "Loss: 1.871648, Train accuracy: 0.866667, val accuracy: 0.066667\n",
      "Loss: 0.968531, Train accuracy: 0.866667, val accuracy: 0.066667\n",
      "Loss: 1.356990, Train accuracy: 0.866667, val accuracy: 0.066667\n",
      "Loss: 1.148390, Train accuracy: 0.866667, val accuracy: 0.066667\n",
      "Loss: 1.327461, Train accuracy: 0.866667, val accuracy: 0.066667\n",
      "Loss: 1.223619, Train accuracy: 0.866667, val accuracy: 0.066667\n",
      "Loss: 1.320334, Train accuracy: 0.866667, val accuracy: 0.066667\n",
      "Loss: 1.337950, Train accuracy: 0.866667, val accuracy: 0.066667\n",
      "Loss: 1.298591, Train accuracy: 0.933333, val accuracy: 0.066667\n",
      "Loss: 1.613899, Train accuracy: 0.933333, val accuracy: 0.066667\n",
      "Loss: 1.331754, Train accuracy: 0.933333, val accuracy: 0.066667\n",
      "Loss: 1.584494, Train accuracy: 0.933333, val accuracy: 0.066667\n",
      "Loss: 1.905533, Train accuracy: 0.933333, val accuracy: 0.066667\n",
      "Loss: 1.322617, Train accuracy: 0.933333, val accuracy: 0.066667\n",
      "Loss: 1.009621, Train accuracy: 0.933333, val accuracy: 0.066667\n",
      "Loss: 1.099114, Train accuracy: 0.933333, val accuracy: 0.066667\n",
      "Loss: 1.297938, Train accuracy: 0.933333, val accuracy: 0.066667\n",
      "Loss: 1.361139, Train accuracy: 0.933333, val accuracy: 0.066667\n",
      "Loss: 1.293566, Train accuracy: 0.933333, val accuracy: 0.066667\n",
      "Loss: 1.533882, Train accuracy: 0.933333, val accuracy: 0.066667\n",
      "Loss: 1.311205, Train accuracy: 0.933333, val accuracy: 0.066667\n",
      "Loss: 1.358078, Train accuracy: 0.933333, val accuracy: 0.066667\n",
      "Loss: 1.183140, Train accuracy: 0.933333, val accuracy: 0.066667\n",
      "Loss: 1.241988, Train accuracy: 0.933333, val accuracy: 0.066667\n",
      "Loss: 1.310038, Train accuracy: 0.933333, val accuracy: 0.066667\n",
      "Loss: 0.926917, Train accuracy: 0.933333, val accuracy: 0.066667\n",
      "Loss: 1.256396, Train accuracy: 0.933333, val accuracy: 0.066667\n",
      "Loss: 1.297815, Train accuracy: 0.933333, val accuracy: 0.066667\n",
      "Loss: 1.479333, Train accuracy: 0.933333, val accuracy: 0.066667\n",
      "Loss: 1.477309, Train accuracy: 0.933333, val accuracy: 0.066667\n",
      "Loss: 1.076974, Train accuracy: 0.933333, val accuracy: 0.066667\n",
      "Loss: 1.452676, Train accuracy: 1.000000, val accuracy: 0.066667\n",
      "Loss: 1.154799, Train accuracy: 0.933333, val accuracy: 0.066667\n",
      "Loss: 0.985925, Train accuracy: 1.000000, val accuracy: 0.066667\n",
      "Loss: 1.058282, Train accuracy: 0.933333, val accuracy: 0.066667\n",
      "Loss: 1.445400, Train accuracy: 1.000000, val accuracy: 0.066667\n",
      "Loss: 1.304109, Train accuracy: 1.000000, val accuracy: 0.066667\n",
      "Loss: 1.577202, Train accuracy: 1.000000, val accuracy: 0.066667\n",
      "Loss: 1.511533, Train accuracy: 1.000000, val accuracy: 0.000000\n",
      "Loss: 1.211309, Train accuracy: 1.000000, val accuracy: 0.066667\n",
      "Loss: 1.228130, Train accuracy: 1.000000, val accuracy: 0.000000\n",
      "Loss: 1.342992, Train accuracy: 1.000000, val accuracy: 0.000000\n",
      "Loss: 1.500781, Train accuracy: 1.000000, val accuracy: 0.066667\n",
      "Loss: 1.139017, Train accuracy: 1.000000, val accuracy: 0.066667\n",
      "Loss: 1.393573, Train accuracy: 1.000000, val accuracy: 0.000000\n",
      "Loss: 1.098830, Train accuracy: 1.000000, val accuracy: 0.000000\n",
      "Loss: 1.166846, Train accuracy: 1.000000, val accuracy: 0.000000\n",
      "Loss: 1.287057, Train accuracy: 1.000000, val accuracy: 0.000000\n",
      "Loss: 1.265104, Train accuracy: 1.000000, val accuracy: 0.000000\n",
      "Loss: 1.400445, Train accuracy: 1.000000, val accuracy: 0.000000\n",
      "Loss: 1.418680, Train accuracy: 1.000000, val accuracy: 0.000000\n",
      "Loss: 1.564257, Train accuracy: 1.000000, val accuracy: 0.000000\n",
      "Loss: 1.378983, Train accuracy: 1.000000, val accuracy: 0.000000\n",
      "Loss: 1.367496, Train accuracy: 1.000000, val accuracy: 0.000000\n",
      "Loss: 1.267240, Train accuracy: 1.000000, val accuracy: 0.000000\n",
      "Loss: 1.256026, Train accuracy: 1.000000, val accuracy: 0.000000\n",
      "Loss: 1.288116, Train accuracy: 1.000000, val accuracy: 0.000000\n",
      "Loss: 1.345122, Train accuracy: 1.000000, val accuracy: 0.000000\n",
      "Loss: 1.206208, Train accuracy: 1.000000, val accuracy: 0.000000\n",
      "Loss: 1.496008, Train accuracy: 1.000000, val accuracy: 0.000000\n"
     ]
    },
    {
     "name": "stdout",
     "output_type": "stream",
     "text": [
      "Loss: 1.207602, Train accuracy: 1.000000, val accuracy: 0.000000\n",
      "Loss: 1.175451, Train accuracy: 1.000000, val accuracy: 0.000000\n",
      "Loss: 1.372289, Train accuracy: 1.000000, val accuracy: 0.000000\n",
      "Loss: 1.229610, Train accuracy: 1.000000, val accuracy: 0.000000\n",
      "Loss: 1.329939, Train accuracy: 1.000000, val accuracy: 0.000000\n",
      "Loss: 1.357343, Train accuracy: 1.000000, val accuracy: 0.000000\n",
      "Loss: 1.352635, Train accuracy: 1.000000, val accuracy: 0.000000\n",
      "Loss: 1.280933, Train accuracy: 1.000000, val accuracy: 0.000000\n",
      "Loss: 1.389550, Train accuracy: 1.000000, val accuracy: 0.000000\n",
      "Loss: 1.383942, Train accuracy: 1.000000, val accuracy: 0.000000\n",
      "Loss: 1.386335, Train accuracy: 1.000000, val accuracy: 0.000000\n"
     ]
    }
   ],
   "source": [
    "data_size = 15\n",
    "model = TwoLayerNet(n_input = train_X.shape[1], n_output = 10, hidden_layer_size = 100, reg = 1e-1)\n",
    "dataset = Dataset(train_X[:data_size], train_y[:data_size], val_X[:data_size], val_y[:data_size])\n",
    "trainer = Trainer(model, dataset, SGD(), learning_rate=1e-1, num_epochs=150, batch_size=5)\n",
    "\n",
    "# You should expect this to reach 1.0 training accuracy \n",
    "loss_history, train_history, val_history = trainer.fit()"
   ]
  },
  {
   "cell_type": "markdown",
   "metadata": {},
   "source": [
    "Теперь найдем гипепараметры, для которых этот процесс сходится быстрее.\n",
    "Если все реализовано корректно, то существуют параметры, при которых процесс сходится в **20** эпох или еще быстрее.\n",
    "Найдите их!"
   ]
  },
  {
   "cell_type": "code",
   "execution_count": 25,
   "metadata": {},
   "outputs": [
    {
     "name": "stdout",
     "output_type": "stream",
     "text": [
      "Loss: 2.298954, Train accuracy: 0.333333, val accuracy: 0.066667\n",
      "Loss: 2.301145, Train accuracy: 0.200000, val accuracy: 0.133333\n",
      "Loss: 2.292137, Train accuracy: 0.266667, val accuracy: 0.000000\n",
      "Loss: 2.251267, Train accuracy: 0.266667, val accuracy: 0.000000\n",
      "Loss: 2.242947, Train accuracy: 0.266667, val accuracy: 0.000000\n",
      "Loss: 2.277262, Train accuracy: 0.266667, val accuracy: 0.000000\n",
      "Loss: 2.202803, Train accuracy: 0.266667, val accuracy: 0.000000\n",
      "Loss: 2.074361, Train accuracy: 0.400000, val accuracy: 0.000000\n",
      "Loss: 1.991511, Train accuracy: 0.400000, val accuracy: 0.000000\n",
      "Loss: 2.013352, Train accuracy: 0.400000, val accuracy: 0.000000\n",
      "Loss: 1.916159, Train accuracy: 0.400000, val accuracy: 0.000000\n",
      "Loss: 1.641095, Train accuracy: 0.400000, val accuracy: 0.000000\n",
      "Loss: 1.809735, Train accuracy: 0.400000, val accuracy: 0.000000\n",
      "Loss: 1.679107, Train accuracy: 0.400000, val accuracy: 0.000000\n",
      "Loss: 1.497139, Train accuracy: 0.400000, val accuracy: 0.000000\n",
      "Loss: 2.114724, Train accuracy: 0.466667, val accuracy: 0.066667\n",
      "Loss: 1.330389, Train accuracy: 0.400000, val accuracy: 0.000000\n",
      "Loss: 1.607485, Train accuracy: 0.600000, val accuracy: 0.000000\n",
      "Loss: 1.512382, Train accuracy: 0.466667, val accuracy: 0.066667\n",
      "Loss: 1.604860, Train accuracy: 0.466667, val accuracy: 0.000000\n"
     ]
    }
   ],
   "source": [
    "# Now, tweak some hyper parameters and make it train to 1.0 accuracy in 20 epochs or less\n",
    "\n",
    "model = TwoLayerNet(n_input = train_X.shape[1], n_output = 10, hidden_layer_size = 100, reg = 1e-4)\n",
    "dataset = Dataset(train_X[:data_size], train_y[:data_size], val_X[:data_size], val_y[:data_size])\n",
    "# TODO: Change any hyperparamers or optimizators to reach training accuracy in 20 epochs\n",
    "trainer = Trainer(model, dataset, SGD(), learning_rate=1e-1, num_epochs=20, batch_size=5)\n",
    "\n",
    "loss_history, train_history, val_history = trainer.fit()"
   ]
  },
  {
   "cell_type": "markdown",
   "metadata": {},
   "source": [
    "# Итак, основное мероприятие!\n",
    "\n",
    "Натренируйте лучшую нейросеть! Можно добавлять и изменять параметры, менять количество нейронов в слоях сети и как угодно экспериментировать. \n",
    "\n",
    "Добейтесь точности лучше **60%** на validation set."
   ]
  },
  {
   "cell_type": "code",
   "execution_count": 26,
   "metadata": {
    "scrolled": true
   },
   "outputs": [
    {
     "name": "stdout",
     "output_type": "stream",
     "text": [
      "Loss: 1.872010, Train accuracy: 0.338667, val accuracy: 0.345000\n",
      "Loss: 1.587588, Train accuracy: 0.511000, val accuracy: 0.515000\n",
      "Loss: 2.012379, Train accuracy: 0.608111, val accuracy: 0.585000\n",
      "Loss: 1.023158, Train accuracy: 0.589222, val accuracy: 0.589000\n",
      "Loss: 1.904033, Train accuracy: 0.580111, val accuracy: 0.575000\n",
      "Loss: 1.407345, Train accuracy: 0.612444, val accuracy: 0.589000\n",
      "Loss: 1.423472, Train accuracy: 0.667333, val accuracy: 0.634000\n",
      "Loss: 1.321389, Train accuracy: 0.644778, val accuracy: 0.623000\n",
      "Loss: 1.797702, Train accuracy: 0.630333, val accuracy: 0.598000\n",
      "Loss: 1.326394, Train accuracy: 0.683556, val accuracy: 0.648000\n",
      "Loss: 2.225050, Train accuracy: 0.575444, val accuracy: 0.555000\n",
      "Loss: 1.655430, Train accuracy: 0.614000, val accuracy: 0.565000\n",
      "Loss: 1.496882, Train accuracy: 0.670889, val accuracy: 0.630000\n",
      "Loss: 1.400782, Train accuracy: 0.640333, val accuracy: 0.615000\n",
      "Loss: 1.463756, Train accuracy: 0.611556, val accuracy: 0.597000\n",
      "Loss: 1.616855, Train accuracy: 0.650444, val accuracy: 0.617000\n",
      "Loss: 2.045558, Train accuracy: 0.196667, val accuracy: 0.206000\n",
      "Loss: 1.936061, Train accuracy: 0.361667, val accuracy: 0.373000\n",
      "Loss: 1.824032, Train accuracy: 0.490222, val accuracy: 0.496000\n",
      "Loss: 1.379842, Train accuracy: 0.604222, val accuracy: 0.589000\n",
      "Loss: 1.621486, Train accuracy: 0.661778, val accuracy: 0.643000\n",
      "Loss: 0.844585, Train accuracy: 0.682556, val accuracy: 0.644000\n",
      "Loss: 1.223682, Train accuracy: 0.703222, val accuracy: 0.688000\n",
      "Loss: 1.303939, Train accuracy: 0.697444, val accuracy: 0.671000\n",
      "Loss: 1.218581, Train accuracy: 0.700111, val accuracy: 0.668000\n",
      "Loss: 1.317929, Train accuracy: 0.690556, val accuracy: 0.659000\n",
      "Loss: 1.582971, Train accuracy: 0.705444, val accuracy: 0.657000\n",
      "Loss: 1.180835, Train accuracy: 0.694778, val accuracy: 0.628000\n",
      "Loss: 1.429637, Train accuracy: 0.686667, val accuracy: 0.634000\n",
      "Loss: 1.409493, Train accuracy: 0.730222, val accuracy: 0.686000\n",
      "Loss: 1.059760, Train accuracy: 0.748667, val accuracy: 0.697000\n",
      "Loss: 1.135647, Train accuracy: 0.765111, val accuracy: 0.698000\n",
      "Loss: 1.692530, Train accuracy: 0.400111, val accuracy: 0.374000\n",
      "Loss: 1.427567, Train accuracy: 0.546889, val accuracy: 0.534000\n",
      "Loss: 1.598039, Train accuracy: 0.574667, val accuracy: 0.581000\n",
      "Loss: 2.202219, Train accuracy: 0.558889, val accuracy: 0.549000\n",
      "Loss: 1.939057, Train accuracy: 0.566889, val accuracy: 0.561000\n",
      "Loss: 1.497462, Train accuracy: 0.600444, val accuracy: 0.600000\n",
      "Loss: 1.768990, Train accuracy: 0.616778, val accuracy: 0.563000\n",
      "Loss: 1.805682, Train accuracy: 0.643667, val accuracy: 0.603000\n",
      "Loss: 1.546490, Train accuracy: 0.622444, val accuracy: 0.594000\n",
      "Loss: 1.317267, Train accuracy: 0.627222, val accuracy: 0.575000\n",
      "Loss: 2.274898, Train accuracy: 0.597111, val accuracy: 0.575000\n",
      "Loss: 1.766661, Train accuracy: 0.670889, val accuracy: 0.630000\n",
      "Loss: 1.533451, Train accuracy: 0.632000, val accuracy: 0.611000\n",
      "Loss: 1.586547, Train accuracy: 0.635222, val accuracy: 0.617000\n",
      "Loss: 1.638331, Train accuracy: 0.576000, val accuracy: 0.560000\n",
      "Loss: 1.658601, Train accuracy: 0.658778, val accuracy: 0.628000\n",
      "Loss: 2.205001, Train accuracy: 0.202111, val accuracy: 0.209000\n",
      "Loss: 1.600752, Train accuracy: 0.411222, val accuracy: 0.416000\n",
      "Loss: 1.226191, Train accuracy: 0.565556, val accuracy: 0.564000\n",
      "Loss: 1.514898, Train accuracy: 0.614889, val accuracy: 0.613000\n",
      "Loss: 1.250332, Train accuracy: 0.680778, val accuracy: 0.660000\n",
      "Loss: 1.448754, Train accuracy: 0.619778, val accuracy: 0.604000\n",
      "Loss: 1.441596, Train accuracy: 0.666222, val accuracy: 0.630000\n",
      "Loss: 1.366991, Train accuracy: 0.683889, val accuracy: 0.627000\n",
      "Loss: 0.991117, Train accuracy: 0.631111, val accuracy: 0.588000\n",
      "Loss: 1.231697, Train accuracy: 0.716222, val accuracy: 0.662000\n",
      "Loss: 1.483535, Train accuracy: 0.720111, val accuracy: 0.662000\n",
      "Loss: 1.230090, Train accuracy: 0.707111, val accuracy: 0.676000\n",
      "Loss: 1.503031, Train accuracy: 0.757222, val accuracy: 0.694000\n",
      "Loss: 1.217997, Train accuracy: 0.726778, val accuracy: 0.670000\n",
      "Loss: 1.120650, Train accuracy: 0.757111, val accuracy: 0.693000\n",
      "Loss: 1.342959, Train accuracy: 0.748556, val accuracy: 0.696000\n",
      "Loss: 1.858308, Train accuracy: 0.361333, val accuracy: 0.343000\n",
      "Loss: 1.663665, Train accuracy: 0.528556, val accuracy: 0.506000\n",
      "Loss: 1.269235, Train accuracy: 0.555556, val accuracy: 0.544000\n",
      "Loss: 1.465777, Train accuracy: 0.605111, val accuracy: 0.559000\n",
      "Loss: 1.518073, Train accuracy: 0.605333, val accuracy: 0.561000\n",
      "Loss: 1.632043, Train accuracy: 0.675444, val accuracy: 0.632000\n",
      "Loss: 1.484537, Train accuracy: 0.644444, val accuracy: 0.614000\n",
      "Loss: 2.126772, Train accuracy: 0.546667, val accuracy: 0.519000\n",
      "Loss: 1.770770, Train accuracy: 0.673000, val accuracy: 0.617000\n",
      "Loss: 1.996135, Train accuracy: 0.630556, val accuracy: 0.591000\n",
      "Loss: 1.806058, Train accuracy: 0.586444, val accuracy: 0.549000\n",
      "Loss: 1.895812, Train accuracy: 0.630000, val accuracy: 0.611000\n",
      "Loss: 1.466692, Train accuracy: 0.682000, val accuracy: 0.627000\n",
      "Loss: 2.020755, Train accuracy: 0.657556, val accuracy: 0.630000\n",
      "Loss: 1.775695, Train accuracy: 0.652000, val accuracy: 0.623000\n",
      "Loss: 1.301369, Train accuracy: 0.618333, val accuracy: 0.584000\n",
      "Loss: 2.122538, Train accuracy: 0.213444, val accuracy: 0.221000\n",
      "Loss: 1.882806, Train accuracy: 0.450889, val accuracy: 0.462000\n",
      "Loss: 1.560077, Train accuracy: 0.547000, val accuracy: 0.545000\n",
      "Loss: 1.544036, Train accuracy: 0.607778, val accuracy: 0.577000\n",
      "Loss: 1.440154, Train accuracy: 0.645667, val accuracy: 0.610000\n",
      "Loss: 1.354069, Train accuracy: 0.681000, val accuracy: 0.632000\n",
      "Loss: 1.114077, Train accuracy: 0.696222, val accuracy: 0.659000\n",
      "Loss: 1.394419, Train accuracy: 0.729556, val accuracy: 0.676000\n",
      "Loss: 1.326257, Train accuracy: 0.743222, val accuracy: 0.682000\n",
      "Loss: 1.251686, Train accuracy: 0.728778, val accuracy: 0.677000\n",
      "Loss: 1.203037, Train accuracy: 0.731556, val accuracy: 0.682000\n",
      "Loss: 1.576845, Train accuracy: 0.743000, val accuracy: 0.684000\n",
      "Loss: 1.295844, Train accuracy: 0.743444, val accuracy: 0.669000\n",
      "Loss: 1.496532, Train accuracy: 0.714667, val accuracy: 0.661000\n",
      "Loss: 1.124240, Train accuracy: 0.726000, val accuracy: 0.673000\n",
      "Loss: 0.916391, Train accuracy: 0.749000, val accuracy: 0.680000\n",
      "Loss: 1.811104, Train accuracy: 0.361778, val accuracy: 0.354000\n",
      "Loss: 1.418812, Train accuracy: 0.542333, val accuracy: 0.522000\n",
      "Loss: 1.296260, Train accuracy: 0.581111, val accuracy: 0.573000\n",
      "Loss: 1.370776, Train accuracy: 0.642333, val accuracy: 0.598000\n",
      "Loss: 1.101128, Train accuracy: 0.639444, val accuracy: 0.611000\n",
      "Loss: 0.971290, Train accuracy: 0.671000, val accuracy: 0.621000\n",
      "Loss: 0.984959, Train accuracy: 0.697333, val accuracy: 0.646000\n",
      "Loss: 1.271778, Train accuracy: 0.668889, val accuracy: 0.631000\n",
      "Loss: 0.949020, Train accuracy: 0.705333, val accuracy: 0.641000\n",
      "Loss: 0.937289, Train accuracy: 0.700556, val accuracy: 0.639000\n",
      "Loss: 0.933268, Train accuracy: 0.722778, val accuracy: 0.655000\n",
      "Loss: 1.027765, Train accuracy: 0.756889, val accuracy: 0.680000\n",
      "Loss: 0.635917, Train accuracy: 0.718444, val accuracy: 0.665000\n",
      "Loss: 0.480160, Train accuracy: 0.768222, val accuracy: 0.677000\n",
      "Loss: 0.572353, Train accuracy: 0.765556, val accuracy: 0.688000\n",
      "Loss: 1.344433, Train accuracy: 0.771444, val accuracy: 0.685000\n",
      "Loss: 2.094005, Train accuracy: 0.196667, val accuracy: 0.206000\n",
      "Loss: 1.875319, Train accuracy: 0.414778, val accuracy: 0.422000\n",
      "Loss: 1.277930, Train accuracy: 0.583889, val accuracy: 0.581000\n",
      "Loss: 1.199612, Train accuracy: 0.638889, val accuracy: 0.630000\n",
      "Loss: 0.910099, Train accuracy: 0.647556, val accuracy: 0.624000\n",
      "Loss: 1.029006, Train accuracy: 0.716222, val accuracy: 0.691000\n",
      "Loss: 0.603590, Train accuracy: 0.690889, val accuracy: 0.683000\n",
      "Loss: 0.980315, Train accuracy: 0.711333, val accuracy: 0.661000\n",
      "Loss: 0.865261, Train accuracy: 0.713333, val accuracy: 0.663000\n",
      "Loss: 0.728785, Train accuracy: 0.747889, val accuracy: 0.689000\n",
      "Loss: 0.712898, Train accuracy: 0.758778, val accuracy: 0.688000\n",
      "Loss: 0.937345, Train accuracy: 0.774667, val accuracy: 0.694000\n",
      "Loss: 0.681047, Train accuracy: 0.795333, val accuracy: 0.727000\n",
      "Loss: 0.622119, Train accuracy: 0.761222, val accuracy: 0.686000\n",
      "Loss: 0.750155, Train accuracy: 0.805222, val accuracy: 0.712000\n"
     ]
    },
    {
     "name": "stdout",
     "output_type": "stream",
     "text": [
      "Loss: 0.518339, Train accuracy: 0.764333, val accuracy: 0.692000\n",
      "Loss: 1.606728, Train accuracy: 0.374444, val accuracy: 0.394000\n",
      "Loss: 1.803521, Train accuracy: 0.502667, val accuracy: 0.489000\n",
      "Loss: 1.353962, Train accuracy: 0.598333, val accuracy: 0.598000\n",
      "Loss: 1.297465, Train accuracy: 0.552778, val accuracy: 0.540000\n",
      "Loss: 1.288564, Train accuracy: 0.674556, val accuracy: 0.624000\n",
      "Loss: 1.053110, Train accuracy: 0.668222, val accuracy: 0.622000\n",
      "Loss: 1.297445, Train accuracy: 0.708333, val accuracy: 0.675000\n",
      "Loss: 0.928541, Train accuracy: 0.717556, val accuracy: 0.673000\n",
      "Loss: 1.164817, Train accuracy: 0.687222, val accuracy: 0.643000\n",
      "Loss: 1.102808, Train accuracy: 0.748889, val accuracy: 0.678000\n",
      "Loss: 1.438138, Train accuracy: 0.733222, val accuracy: 0.666000\n",
      "Loss: 0.975801, Train accuracy: 0.729778, val accuracy: 0.653000\n",
      "Loss: 0.749295, Train accuracy: 0.743889, val accuracy: 0.673000\n",
      "Loss: 0.689419, Train accuracy: 0.751889, val accuracy: 0.685000\n",
      "Loss: 0.638491, Train accuracy: 0.778333, val accuracy: 0.682000\n",
      "Loss: 1.400592, Train accuracy: 0.768778, val accuracy: 0.673000\n",
      "Loss: 2.101945, Train accuracy: 0.237444, val accuracy: 0.238000\n",
      "Loss: 1.677684, Train accuracy: 0.402000, val accuracy: 0.396000\n",
      "Loss: 1.639670, Train accuracy: 0.578444, val accuracy: 0.587000\n",
      "Loss: 1.177888, Train accuracy: 0.617889, val accuracy: 0.601000\n",
      "Loss: 1.034620, Train accuracy: 0.675333, val accuracy: 0.639000\n",
      "Loss: 1.096867, Train accuracy: 0.655000, val accuracy: 0.638000\n",
      "Loss: 1.072844, Train accuracy: 0.727667, val accuracy: 0.678000\n",
      "Loss: 0.919606, Train accuracy: 0.762000, val accuracy: 0.694000\n",
      "Loss: 1.014584, Train accuracy: 0.768111, val accuracy: 0.693000\n",
      "Loss: 1.183345, Train accuracy: 0.777556, val accuracy: 0.712000\n",
      "Loss: 0.980724, Train accuracy: 0.759778, val accuracy: 0.696000\n",
      "Loss: 0.526650, Train accuracy: 0.760333, val accuracy: 0.684000\n",
      "Loss: 1.195331, Train accuracy: 0.791000, val accuracy: 0.717000\n",
      "Loss: 0.883251, Train accuracy: 0.794556, val accuracy: 0.713000\n",
      "Loss: 0.812381, Train accuracy: 0.794111, val accuracy: 0.708000\n",
      "Loss: 0.497980, Train accuracy: 0.832333, val accuracy: 0.727000\n",
      "Loss: 1.706924, Train accuracy: 0.376000, val accuracy: 0.401000\n",
      "Loss: 1.086800, Train accuracy: 0.533111, val accuracy: 0.535000\n",
      "Loss: 1.571126, Train accuracy: 0.629667, val accuracy: 0.601000\n",
      "Loss: 1.340643, Train accuracy: 0.619000, val accuracy: 0.566000\n",
      "Loss: 1.614522, Train accuracy: 0.681667, val accuracy: 0.622000\n",
      "Loss: 1.115037, Train accuracy: 0.656222, val accuracy: 0.607000\n",
      "Loss: 1.603915, Train accuracy: 0.698556, val accuracy: 0.636000\n",
      "Loss: 0.902076, Train accuracy: 0.724556, val accuracy: 0.679000\n",
      "Loss: 1.325390, Train accuracy: 0.709000, val accuracy: 0.657000\n",
      "Loss: 1.072737, Train accuracy: 0.730556, val accuracy: 0.658000\n",
      "Loss: 1.239260, Train accuracy: 0.734667, val accuracy: 0.653000\n",
      "Loss: 0.867480, Train accuracy: 0.730222, val accuracy: 0.632000\n",
      "Loss: 0.886557, Train accuracy: 0.756222, val accuracy: 0.661000\n",
      "Loss: 1.350500, Train accuracy: 0.781889, val accuracy: 0.695000\n",
      "Loss: 0.826541, Train accuracy: 0.764222, val accuracy: 0.661000\n",
      "Loss: 1.020902, Train accuracy: 0.772778, val accuracy: 0.665000\n",
      "Loss: 2.079185, Train accuracy: 0.232889, val accuracy: 0.233000\n",
      "Loss: 1.591073, Train accuracy: 0.482556, val accuracy: 0.481000\n",
      "Loss: 1.878380, Train accuracy: 0.580222, val accuracy: 0.576000\n",
      "Loss: 1.424213, Train accuracy: 0.626556, val accuracy: 0.586000\n",
      "Loss: 1.021016, Train accuracy: 0.668111, val accuracy: 0.650000\n",
      "Loss: 1.080581, Train accuracy: 0.718222, val accuracy: 0.668000\n",
      "Loss: 0.781515, Train accuracy: 0.711667, val accuracy: 0.666000\n",
      "Loss: 0.953229, Train accuracy: 0.745111, val accuracy: 0.676000\n",
      "Loss: 0.674935, Train accuracy: 0.747222, val accuracy: 0.667000\n",
      "Loss: 1.074869, Train accuracy: 0.763778, val accuracy: 0.685000\n",
      "Loss: 0.776174, Train accuracy: 0.782222, val accuracy: 0.701000\n",
      "Loss: 0.726749, Train accuracy: 0.820444, val accuracy: 0.705000\n",
      "Loss: 0.993355, Train accuracy: 0.826444, val accuracy: 0.718000\n",
      "Loss: 0.539646, Train accuracy: 0.801333, val accuracy: 0.696000\n",
      "Loss: 0.417646, Train accuracy: 0.814444, val accuracy: 0.709000\n",
      "Loss: 0.710281, Train accuracy: 0.821444, val accuracy: 0.703000\n",
      "Loss: 2.283187, Train accuracy: 0.196667, val accuracy: 0.206000\n",
      "Loss: 2.138677, Train accuracy: 0.196667, val accuracy: 0.206000\n",
      "Loss: 2.237753, Train accuracy: 0.196667, val accuracy: 0.206000\n",
      "Loss: 2.221037, Train accuracy: 0.249222, val accuracy: 0.246000\n",
      "Loss: 2.081502, Train accuracy: 0.294889, val accuracy: 0.294000\n",
      "Loss: 1.948301, Train accuracy: 0.351333, val accuracy: 0.355000\n",
      "Loss: 1.581727, Train accuracy: 0.405667, val accuracy: 0.398000\n",
      "Loss: 1.720963, Train accuracy: 0.489667, val accuracy: 0.487000\n",
      "Loss: 1.624767, Train accuracy: 0.542333, val accuracy: 0.553000\n",
      "Loss: 1.426998, Train accuracy: 0.590556, val accuracy: 0.577000\n",
      "Loss: 1.362081, Train accuracy: 0.621556, val accuracy: 0.593000\n",
      "Loss: 1.327050, Train accuracy: 0.634000, val accuracy: 0.616000\n",
      "Loss: 1.109580, Train accuracy: 0.668111, val accuracy: 0.659000\n",
      "Loss: 1.237498, Train accuracy: 0.689778, val accuracy: 0.672000\n",
      "Loss: 1.278870, Train accuracy: 0.702222, val accuracy: 0.683000\n",
      "Loss: 0.963556, Train accuracy: 0.707111, val accuracy: 0.689000\n",
      "Loss: 2.198127, Train accuracy: 0.196667, val accuracy: 0.206000\n",
      "Loss: 2.128337, Train accuracy: 0.196667, val accuracy: 0.206000\n",
      "Loss: 2.149442, Train accuracy: 0.196667, val accuracy: 0.206000\n",
      "Loss: 2.217476, Train accuracy: 0.196667, val accuracy: 0.206000\n",
      "Loss: 2.210602, Train accuracy: 0.196667, val accuracy: 0.206000\n",
      "Loss: 2.110518, Train accuracy: 0.196667, val accuracy: 0.206000\n",
      "Loss: 2.249348, Train accuracy: 0.208444, val accuracy: 0.216000\n",
      "Loss: 2.118171, Train accuracy: 0.251333, val accuracy: 0.251000\n",
      "Loss: 2.063047, Train accuracy: 0.272222, val accuracy: 0.275000\n",
      "Loss: 2.093822, Train accuracy: 0.304222, val accuracy: 0.303000\n",
      "Loss: 1.873249, Train accuracy: 0.350444, val accuracy: 0.359000\n",
      "Loss: 1.703354, Train accuracy: 0.397333, val accuracy: 0.392000\n",
      "Loss: 1.931763, Train accuracy: 0.428222, val accuracy: 0.416000\n",
      "Loss: 1.621146, Train accuracy: 0.469222, val accuracy: 0.453000\n",
      "Loss: 1.571346, Train accuracy: 0.500889, val accuracy: 0.484000\n",
      "Loss: 1.705928, Train accuracy: 0.535000, val accuracy: 0.534000\n",
      "Loss: 2.184975, Train accuracy: 0.196667, val accuracy: 0.206000\n",
      "Loss: 2.254744, Train accuracy: 0.196667, val accuracy: 0.206000\n",
      "Loss: 2.128143, Train accuracy: 0.196667, val accuracy: 0.206000\n",
      "Loss: 2.139714, Train accuracy: 0.267000, val accuracy: 0.263000\n",
      "Loss: 2.007202, Train accuracy: 0.310333, val accuracy: 0.322000\n",
      "Loss: 1.836670, Train accuracy: 0.416222, val accuracy: 0.419000\n",
      "Loss: 1.525765, Train accuracy: 0.474333, val accuracy: 0.467000\n",
      "Loss: 1.587233, Train accuracy: 0.542667, val accuracy: 0.532000\n",
      "Loss: 1.662034, Train accuracy: 0.591778, val accuracy: 0.580000\n",
      "Loss: 1.005003, Train accuracy: 0.634111, val accuracy: 0.612000\n",
      "Loss: 1.258927, Train accuracy: 0.655667, val accuracy: 0.632000\n",
      "Loss: 1.140477, Train accuracy: 0.671889, val accuracy: 0.643000\n",
      "Loss: 1.169260, Train accuracy: 0.695111, val accuracy: 0.671000\n",
      "Loss: 0.992830, Train accuracy: 0.709444, val accuracy: 0.674000\n",
      "Loss: 1.325819, Train accuracy: 0.720556, val accuracy: 0.687000\n",
      "Loss: 1.172132, Train accuracy: 0.728000, val accuracy: 0.686000\n",
      "Loss: 2.212069, Train accuracy: 0.196667, val accuracy: 0.206000\n",
      "Loss: 2.218694, Train accuracy: 0.196667, val accuracy: 0.206000\n",
      "Loss: 2.129398, Train accuracy: 0.196667, val accuracy: 0.206000\n",
      "Loss: 2.172382, Train accuracy: 0.196667, val accuracy: 0.206000\n",
      "Loss: 2.273855, Train accuracy: 0.196667, val accuracy: 0.206000\n",
      "Loss: 2.128241, Train accuracy: 0.197000, val accuracy: 0.206000\n",
      "Loss: 2.155531, Train accuracy: 0.243667, val accuracy: 0.245000\n",
      "Loss: 2.121592, Train accuracy: 0.272333, val accuracy: 0.271000\n",
      "Loss: 2.050677, Train accuracy: 0.288111, val accuracy: 0.290000\n",
      "Loss: 2.055932, Train accuracy: 0.338222, val accuracy: 0.335000\n",
      "Loss: 1.667208, Train accuracy: 0.383778, val accuracy: 0.374000\n",
      "Loss: 1.698825, Train accuracy: 0.418889, val accuracy: 0.428000\n",
      "Loss: 1.581715, Train accuracy: 0.448444, val accuracy: 0.444000\n",
      "Loss: 1.750293, Train accuracy: 0.494667, val accuracy: 0.492000\n"
     ]
    },
    {
     "name": "stdout",
     "output_type": "stream",
     "text": [
      "Loss: 1.363953, Train accuracy: 0.520667, val accuracy: 0.518000\n",
      "Loss: 1.512634, Train accuracy: 0.559000, val accuracy: 0.550000\n",
      "Loss: 2.204760, Train accuracy: 0.196667, val accuracy: 0.206000\n",
      "Loss: 2.229846, Train accuracy: 0.196667, val accuracy: 0.206000\n",
      "Loss: 2.096002, Train accuracy: 0.208444, val accuracy: 0.218000\n",
      "Loss: 2.105226, Train accuracy: 0.262667, val accuracy: 0.271000\n",
      "Loss: 1.913575, Train accuracy: 0.357667, val accuracy: 0.364000\n",
      "Loss: 1.739490, Train accuracy: 0.452556, val accuracy: 0.464000\n",
      "Loss: 1.738558, Train accuracy: 0.521667, val accuracy: 0.522000\n",
      "Loss: 1.347076, Train accuracy: 0.576556, val accuracy: 0.571000\n",
      "Loss: 1.304719, Train accuracy: 0.605333, val accuracy: 0.604000\n",
      "Loss: 1.292068, Train accuracy: 0.654111, val accuracy: 0.641000\n",
      "Loss: 1.252171, Train accuracy: 0.672111, val accuracy: 0.656000\n",
      "Loss: 1.019288, Train accuracy: 0.688222, val accuracy: 0.670000\n",
      "Loss: 1.134058, Train accuracy: 0.708778, val accuracy: 0.682000\n",
      "Loss: 0.988271, Train accuracy: 0.723333, val accuracy: 0.706000\n",
      "Loss: 1.014050, Train accuracy: 0.718444, val accuracy: 0.694000\n",
      "Loss: 1.302888, Train accuracy: 0.744778, val accuracy: 0.723000\n",
      "Loss: 2.197552, Train accuracy: 0.196667, val accuracy: 0.206000\n",
      "Loss: 2.267674, Train accuracy: 0.196667, val accuracy: 0.206000\n",
      "Loss: 2.283066, Train accuracy: 0.196667, val accuracy: 0.206000\n",
      "Loss: 2.240403, Train accuracy: 0.196667, val accuracy: 0.206000\n",
      "Loss: 2.033326, Train accuracy: 0.196667, val accuracy: 0.206000\n",
      "Loss: 2.097908, Train accuracy: 0.211333, val accuracy: 0.219000\n",
      "Loss: 2.223276, Train accuracy: 0.256444, val accuracy: 0.254000\n",
      "Loss: 2.097259, Train accuracy: 0.279333, val accuracy: 0.280000\n",
      "Loss: 1.828140, Train accuracy: 0.308333, val accuracy: 0.310000\n",
      "Loss: 1.896040, Train accuracy: 0.374333, val accuracy: 0.369000\n",
      "Loss: 1.720822, Train accuracy: 0.406333, val accuracy: 0.396000\n",
      "Loss: 1.471231, Train accuracy: 0.459444, val accuracy: 0.460000\n",
      "Loss: 1.563769, Train accuracy: 0.491556, val accuracy: 0.476000\n",
      "Loss: 1.647943, Train accuracy: 0.529778, val accuracy: 0.524000\n",
      "Loss: 1.355731, Train accuracy: 0.552889, val accuracy: 0.554000\n",
      "Loss: 1.388458, Train accuracy: 0.582778, val accuracy: 0.559000\n",
      "Loss: 2.221109, Train accuracy: 0.196667, val accuracy: 0.206000\n",
      "Loss: 2.234221, Train accuracy: 0.196667, val accuracy: 0.206000\n",
      "Loss: 2.208660, Train accuracy: 0.196667, val accuracy: 0.206000\n",
      "Loss: 2.168440, Train accuracy: 0.270889, val accuracy: 0.268000\n",
      "Loss: 1.838605, Train accuracy: 0.303889, val accuracy: 0.310000\n",
      "Loss: 1.918975, Train accuracy: 0.392778, val accuracy: 0.396000\n",
      "Loss: 1.465015, Train accuracy: 0.459556, val accuracy: 0.451000\n",
      "Loss: 1.318759, Train accuracy: 0.520444, val accuracy: 0.516000\n",
      "Loss: 1.275258, Train accuracy: 0.579444, val accuracy: 0.567000\n",
      "Loss: 1.336319, Train accuracy: 0.614333, val accuracy: 0.613000\n",
      "Loss: 0.928692, Train accuracy: 0.649556, val accuracy: 0.645000\n",
      "Loss: 1.052097, Train accuracy: 0.675778, val accuracy: 0.655000\n",
      "Loss: 0.868656, Train accuracy: 0.672000, val accuracy: 0.654000\n",
      "Loss: 1.139307, Train accuracy: 0.709778, val accuracy: 0.679000\n",
      "Loss: 1.267047, Train accuracy: 0.710667, val accuracy: 0.689000\n",
      "Loss: 0.586028, Train accuracy: 0.719667, val accuracy: 0.685000\n",
      "Loss: 2.322097, Train accuracy: 0.196667, val accuracy: 0.206000\n",
      "Loss: 2.287709, Train accuracy: 0.196667, val accuracy: 0.206000\n",
      "Loss: 2.361116, Train accuracy: 0.196667, val accuracy: 0.206000\n",
      "Loss: 2.263991, Train accuracy: 0.196667, val accuracy: 0.206000\n",
      "Loss: 2.219862, Train accuracy: 0.196667, val accuracy: 0.206000\n",
      "Loss: 2.397291, Train accuracy: 0.196667, val accuracy: 0.206000\n",
      "Loss: 2.143150, Train accuracy: 0.222111, val accuracy: 0.228000\n",
      "Loss: 1.869084, Train accuracy: 0.260778, val accuracy: 0.260000\n",
      "Loss: 1.936964, Train accuracy: 0.279333, val accuracy: 0.276000\n",
      "Loss: 2.098301, Train accuracy: 0.297000, val accuracy: 0.300000\n",
      "Loss: 2.011036, Train accuracy: 0.352556, val accuracy: 0.354000\n",
      "Loss: 1.844246, Train accuracy: 0.404889, val accuracy: 0.393000\n",
      "Loss: 1.778943, Train accuracy: 0.449778, val accuracy: 0.430000\n",
      "Loss: 1.651133, Train accuracy: 0.483000, val accuracy: 0.458000\n",
      "Loss: 1.519002, Train accuracy: 0.510778, val accuracy: 0.504000\n",
      "Loss: 1.753233, Train accuracy: 0.551222, val accuracy: 0.536000\n",
      "Loss: 2.313858, Train accuracy: 0.196667, val accuracy: 0.206000\n",
      "Loss: 2.322060, Train accuracy: 0.196667, val accuracy: 0.206000\n",
      "Loss: 2.130930, Train accuracy: 0.196667, val accuracy: 0.206000\n",
      "Loss: 2.259359, Train accuracy: 0.251778, val accuracy: 0.246000\n",
      "Loss: 2.085146, Train accuracy: 0.310889, val accuracy: 0.318000\n",
      "Loss: 1.731533, Train accuracy: 0.403111, val accuracy: 0.394000\n",
      "Loss: 1.335637, Train accuracy: 0.496778, val accuracy: 0.493000\n",
      "Loss: 1.804016, Train accuracy: 0.549000, val accuracy: 0.530000\n",
      "Loss: 1.306896, Train accuracy: 0.598778, val accuracy: 0.580000\n",
      "Loss: 1.456877, Train accuracy: 0.641778, val accuracy: 0.615000\n",
      "Loss: 1.309288, Train accuracy: 0.671222, val accuracy: 0.644000\n",
      "Loss: 1.193881, Train accuracy: 0.683778, val accuracy: 0.660000\n",
      "Loss: 1.053148, Train accuracy: 0.703333, val accuracy: 0.683000\n",
      "Loss: 1.097783, Train accuracy: 0.709778, val accuracy: 0.682000\n",
      "Loss: 0.915866, Train accuracy: 0.724778, val accuracy: 0.697000\n",
      "Loss: 0.595836, Train accuracy: 0.729333, val accuracy: 0.701000\n",
      "Loss: 2.213225, Train accuracy: 0.196667, val accuracy: 0.206000\n",
      "Loss: 2.265672, Train accuracy: 0.196667, val accuracy: 0.206000\n",
      "Loss: 2.246693, Train accuracy: 0.196667, val accuracy: 0.206000\n",
      "Loss: 2.276894, Train accuracy: 0.196667, val accuracy: 0.206000\n",
      "Loss: 2.206147, Train accuracy: 0.196667, val accuracy: 0.206000\n",
      "Loss: 2.172727, Train accuracy: 0.196778, val accuracy: 0.206000\n",
      "Loss: 2.058461, Train accuracy: 0.242778, val accuracy: 0.241000\n",
      "Loss: 1.829872, Train accuracy: 0.283444, val accuracy: 0.288000\n",
      "Loss: 2.116359, Train accuracy: 0.317222, val accuracy: 0.319000\n",
      "Loss: 1.724728, Train accuracy: 0.353333, val accuracy: 0.353000\n",
      "Loss: 1.883266, Train accuracy: 0.395556, val accuracy: 0.387000\n",
      "Loss: 1.551814, Train accuracy: 0.451444, val accuracy: 0.448000\n",
      "Loss: 1.521759, Train accuracy: 0.501333, val accuracy: 0.498000\n",
      "Loss: 1.564668, Train accuracy: 0.539889, val accuracy: 0.540000\n",
      "Loss: 1.317951, Train accuracy: 0.561667, val accuracy: 0.540000\n",
      "Loss: 1.399748, Train accuracy: 0.579444, val accuracy: 0.573000\n",
      "Loss: 2.089457, Train accuracy: 0.196667, val accuracy: 0.206000\n",
      "Loss: 2.177726, Train accuracy: 0.196667, val accuracy: 0.206000\n",
      "Loss: 2.294709, Train accuracy: 0.210111, val accuracy: 0.218000\n",
      "Loss: 1.928784, Train accuracy: 0.273889, val accuracy: 0.272000\n",
      "Loss: 1.663933, Train accuracy: 0.370556, val accuracy: 0.372000\n",
      "Loss: 1.562599, Train accuracy: 0.447111, val accuracy: 0.441000\n",
      "Loss: 1.614892, Train accuracy: 0.517222, val accuracy: 0.518000\n",
      "Loss: 1.499559, Train accuracy: 0.584778, val accuracy: 0.576000\n",
      "Loss: 1.330171, Train accuracy: 0.613667, val accuracy: 0.605000\n",
      "Loss: 1.269482, Train accuracy: 0.653222, val accuracy: 0.642000\n",
      "Loss: 1.079861, Train accuracy: 0.681667, val accuracy: 0.669000\n",
      "Loss: 0.860237, Train accuracy: 0.688111, val accuracy: 0.653000\n",
      "Loss: 1.186071, Train accuracy: 0.711556, val accuracy: 0.683000\n",
      "Loss: 0.789214, Train accuracy: 0.720333, val accuracy: 0.689000\n",
      "Loss: 1.010388, Train accuracy: 0.735222, val accuracy: 0.715000\n",
      "Loss: 1.193050, Train accuracy: 0.749667, val accuracy: 0.708000\n",
      "Loss: 2.217502, Train accuracy: 0.196667, val accuracy: 0.206000\n",
      "Loss: 2.231816, Train accuracy: 0.196667, val accuracy: 0.206000\n",
      "Loss: 2.327550, Train accuracy: 0.196667, val accuracy: 0.206000\n",
      "Loss: 2.208737, Train accuracy: 0.196667, val accuracy: 0.206000\n",
      "Loss: 2.161343, Train accuracy: 0.196667, val accuracy: 0.206000\n",
      "Loss: 2.176573, Train accuracy: 0.216444, val accuracy: 0.222000\n",
      "Loss: 2.001407, Train accuracy: 0.264222, val accuracy: 0.261000\n",
      "Loss: 2.134932, Train accuracy: 0.283000, val accuracy: 0.288000\n",
      "Loss: 1.773773, Train accuracy: 0.332222, val accuracy: 0.339000\n",
      "Loss: 1.839995, Train accuracy: 0.389000, val accuracy: 0.393000\n",
      "Loss: 1.677530, Train accuracy: 0.431556, val accuracy: 0.430000\n",
      "Loss: 1.559273, Train accuracy: 0.470000, val accuracy: 0.452000\n",
      "Loss: 1.357529, Train accuracy: 0.514778, val accuracy: 0.509000\n"
     ]
    },
    {
     "name": "stdout",
     "output_type": "stream",
     "text": [
      "Loss: 1.444856, Train accuracy: 0.545000, val accuracy: 0.537000\n",
      "Loss: 1.357962, Train accuracy: 0.570444, val accuracy: 0.554000\n",
      "Loss: 1.047661, Train accuracy: 0.592778, val accuracy: 0.580000\n",
      "best validation accuracy achieved: 0.727000\n"
     ]
    }
   ],
   "source": [
    "# Let's train the best one-hidden-layer network we can\n",
    "\n",
    "learning_rates = [1e-1, 1e-2]\n",
    "reg_strength = [1e-3, 1e-5]\n",
    "hidden_layer_sizes = [64, 128, 256]\n",
    "batch_size = [64, 128]\n",
    "num_epochs = 16\n",
    "\n",
    "best_classifier = None\n",
    "best_val_accuracy = 0\n",
    "\n",
    "loss_history = []\n",
    "train_history = []\n",
    "val_history = []\n",
    "\n",
    "dataset = Dataset(train_X, train_y, val_X, val_y)\n",
    "\n",
    "# TODO find the best hyperparameters to train the network\n",
    "# Don't hesitate to add new values to the arrays above, perform experiments, use any tricks you want\n",
    "# You should expect to get to at least 40% of valudation accuracy\n",
    "# Save loss/train/history of the best classifier to the variables above\n",
    "for lr in learning_rates:\n",
    "    for rs in reg_strength:\n",
    "        for ls in hidden_layer_sizes:\n",
    "            for bs in batch_size:\n",
    "                model = TwoLayerNet(n_input=train_X.shape[1], n_output=10, hidden_layer_size=ls, reg=rs)\n",
    "                trainer = Trainer(model, dataset, MomentumSGD(), learning_rate=lr, num_epochs=num_epochs, batch_size=bs)\n",
    "                temp_loss_history, temp_train_history, temp_val_history = trainer.fit()\n",
    "                \n",
    "                if temp_val_history[-1] > best_val_accuracy:\n",
    "                    best_classifier = model\n",
    "                    best_val_accuracy = temp_val_history[-1]\n",
    "                    loss_history = temp_loss_history.copy()\n",
    "                    train_history = temp_train_history.copy()\n",
    "                    val_history = temp_val_history.copy()\n",
    "    \n",
    "print('best validation accuracy achieved: %f' % best_val_accuracy)"
   ]
  },
  {
   "cell_type": "code",
   "execution_count": 27,
   "metadata": {},
   "outputs": [
    {
     "data": {
      "text/plain": [
       "[<matplotlib.lines.Line2D at 0x7f1f55447ee0>]"
      ]
     },
     "execution_count": 27,
     "metadata": {},
     "output_type": "execute_result"
    },
    {
     "data": {
      "image/png": "[encoded data removed]",
      "text/plain": [
       "<Figure size 1080x504 with 2 Axes>"
      ]
     },
     "metadata": {
      "needs_background": "light"
     },
     "output_type": "display_data"
    }
   ],
   "source": [
    "plt.figure(figsize=(15, 7))\n",
    "plt.subplot(211)\n",
    "plt.title(\"Loss\")\n",
    "plt.plot(loss_history)\n",
    "plt.subplot(212)\n",
    "plt.title(\"Train/validation accuracy\")\n",
    "plt.plot(train_history)\n",
    "plt.plot(val_history)"
   ]
  },
  {
   "cell_type": "markdown",
   "metadata": {},
   "source": [
    "# Как обычно, посмотрим, как наша лучшая модель работает на тестовых данных"
   ]
  },
  {
   "cell_type": "code",
   "execution_count": 28,
   "metadata": {},
   "outputs": [
    {
     "name": "stdout",
     "output_type": "stream",
     "text": [
      "Neural net test set accuracy: 0.679000\n"
     ]
    }
   ],
   "source": [
    "test_pred = best_classifier.predict(test_X)\n",
    "test_accuracy = multiclass_accuracy(test_pred, test_y)\n",
    "print('Neural net test set accuracy: %f' % (test_accuracy, ))"
   ]
  },
  {
   "cell_type": "code",
   "execution_count": null,
   "metadata": {},
   "outputs": [],
   "source": []
  }
 ],
 "metadata": {
  "kernelspec": {
   "display_name": "Python 3 (ipykernel)",
   "language": "python",
   "name": "python3"
  },
  "language_info": {
   "codemirror_mode": {
    "name": "ipython",
    "version": 3
   },
   "file_extension": ".py",
   "mimetype": "text/x-python",
   "name": "python",
   "nbconvert_exporter": "python",
   "pygments_lexer": "ipython3",
   "version": "3.8.10"
  }
 },
 "nbformat": 4,
 "nbformat_minor": 2
}
